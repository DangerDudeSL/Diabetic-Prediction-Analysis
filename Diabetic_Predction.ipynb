{
  "nbformat": 4,
  "nbformat_minor": 0,
  "metadata": {
    "colab": {
      "provenance": [],
      "collapsed_sections": [
        "bH3EfiPBETuQ"
      ],
      "gpuType": "T4",
      "authorship_tag": "ABX9TyPkeqjJa6h10Z2tXg0P4U+1",
      "include_colab_link": true
    },
    "kernelspec": {
      "name": "python3",
      "display_name": "Python 3"
    },
    "language_info": {
      "name": "python"
    },
    "accelerator": "GPU"
  },
  "cells": [
    {
      "cell_type": "markdown",
      "metadata": {
        "id": "view-in-github",
        "colab_type": "text"
      },
      "source": [
        "<a href=\"https://colab.research.google.com/github/DangerDudeSL/Diabetic-Prediction-Analysis/blob/main/Diabetic_Predction.ipynb\" target=\"_parent\"><img src=\"https://colab.research.google.com/assets/colab-badge.svg\" alt=\"Open In Colab\"/></a>"
      ]
    },
    {
      "cell_type": "code",
      "execution_count": null,
      "metadata": {
        "id": "GZVDt956CnPn"
      },
      "outputs": [],
      "source": []
    },
    {
      "cell_type": "markdown",
      "source": [
        "# PREDICTION ANALYSIS FOR DIABETIC PATIENTS\n",
        "\n",
        "---\n",
        "\n"
      ],
      "metadata": {
        "id": "bH3EfiPBETuQ"
      }
    },
    {
      "cell_type": "markdown",
      "source": [
        "# 1. Application Area Review\n",
        "\n",
        "In here it is discussed that what domain this use case belongs to and will implement how Artificial intelligence is used and utilized within this domain.\n",
        "\n",
        "The use case \"Diabetic prediction analysis\" falls under the section of **Hospitals And Medicine (Health)**\n",
        "\n",
        "Artificial intelligence has numerous domains with healthcare being one of the most revolutionized ones. From leveraging AI techniques like NLP, computer vision and machine learning techniques, significant advancements have been made in diagnostics, treatment planning, patient monitoring, and operational efficiency\n",
        "\n",
        "Below it is discussed several AI techniques and how it is used in this domain\n",
        "\n",
        "## 1.1 Unlocking Insights from Text Data Using Natural Language Processing:\n",
        "\n",
        "\n",
        "Figure 1 (NLP visualization)\n",
        "\n",
        "Natural language processing (NLP) is a theory-motivated range of computational techniques for the automatic analysis and representation of human language\n",
        "(Cambria & White, 2014)\n",
        "This is a powerful technique that processes and interprets human language.\n",
        "\n",
        " NLP is used to extract valuable insights from unstructured text, such as clinical diagnoses, clinical notes, research articles, and patient feedback. Google’s MedPaLM which utilizes this help clinicians stay informed by summarizing vast amounts of medical literature. Medical chatbots and virtual assistants have become a common tool, and it also enhances NLP. These tools answer queries and guide them toward appropriate care pathways.\n",
        "Even though it is not recommended people use Large Language Models like ChatGPT and Google’s Gemini on medical diagnosis as well.\n",
        "\n",
        "\n",
        "## 1.2 Computer Vision for Advancing Medical Imaging\n",
        "\n",
        "\n",
        "Figure 2 (Computer vision is automating tasks like analysis of brain scans (Source: Emerj))\n",
        "“Computer vision, a subset of AI focused on interpreting visual data, has profoundly impacted medical imaging. This technique enables the analysis of X-rays, CT scans, and MRIs to detect abnormalities with high accuracy”\n",
        "(Esteva et al., 2017)\n",
        "It demonstrated that AI models could classify skin cancer at a dermatologist-level accuracy using image data. Ai models like this are very accurate on diagnostics.\n",
        "In addition to diagnostics, computer vision is advancing surgical procedures. AI-powered robotic systems, such as those used in minimally invasive surgeries, leverage computer vision to enhance precision and reduce recovery times. Furthermore, computer vision tools monitor wound healing, offering timely insights into patient recovery.\n",
        "\n",
        "##1.3 Wearable Technology and Remote Monitoring: Enhancing Patient Management\n",
        "\n",
        "\n",
        "Figure 3 (Apple Smart Watch)\n",
        "\n",
        "Artificial Intelligence integrates seamlessly with wearable devices, ensuring continuous health monitoring. Smartwatches and fitness trackers, fitness rings etc. equipped with AI algorithms to analyze real-time data, such as heart rate and activity levels, to detect potential health issues. The AI technique used can vary from scenario to scenario for instance Machine learning techniques like regression and decision trees can be used for anomaly detection and predictive analysis for diseases.  For instance, the Apple Watch’s electrocardiogram (ECG) feature uses AI to identify atrial fibrillation, helping prevent strokes.\n",
        "Remote patient monitoring (RPM) systems further aid from AI. Systems like LIVONGO utilize machine learning techniques, reinforcement learning and NLP to provide personalized feedback to patients with chronic conditions, such as diabetes and hypertension. AI ensures patients receive timely care, particularly in underserved or remote areas, which can be impossible or expensive in traditional ways. This also reduces the burden on traditional healthcare infrastructure.\n",
        "\n",
        "\n",
        "\n",
        "\n",
        "\n",
        "\n"
      ],
      "metadata": {
        "id": "QaiX9nbyIAs9"
      }
    },
    {
      "cell_type": "markdown",
      "source": [
        "#2.Compare and evaluate AI techniques.\n",
        "\n",
        "Diabetic Prediction can implemented using multiple AI techniques. In here three ai techniques will be selected and will de discussed and be comapared.\n",
        "\n",
        "##2.1 Diabetic Prediction Using Regression, KNN and Random Forest\n",
        "The model which is being chosen is dependant on the data we are providing. Data like BMI, waist circumference, fasting plasma glucose, age, alcohol intake, blood pressure, etc. BUt there are rare occations image data is used as well (retina scans  and xrays)\n",
        "\n"
      ],
      "metadata": {
        "id": "FUz-sLdhNNPP"
      }
    },
    {
      "cell_type": "markdown",
      "source": [
        "##References\n",
        "\n",
        "\n",
        "1.  Cambria, E., & White, B. (2014). Jumping NLP Curves: A Review of Natural Language Processing Research [Review Article]. IEEE Computational Intelligence Magazine, 9(2), 48–57. https://doi.org/10.1109/MCI.2014.2307227\n",
        "2.   Esteva, A., Kuprel, B., Novoa, R. A., Ko, J., Swetter, S. M., Blau, H. M., & Thrun, S. (2017). Dermatologist-level classification of skin cancer with deep neural networks. Nature, 542(7639), 115–118. https://doi.org/10.1038/nature21056\n",
        ""
      ],
      "metadata": {
        "id": "w3J-Dv_VNQnJ"
      }
    }
  ]
}